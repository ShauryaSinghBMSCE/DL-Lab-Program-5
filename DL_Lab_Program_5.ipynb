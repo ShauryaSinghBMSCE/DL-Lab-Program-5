{
  "nbformat": 4,
  "nbformat_minor": 0,
  "metadata": {
    "colab": {
      "provenance": []
    },
    "kernelspec": {
      "name": "python3",
      "display_name": "Python 3"
    },
    "language_info": {
      "name": "python"
    }
  },
  "cells": [
    {
      "cell_type": "code",
      "execution_count": null,
      "metadata": {
        "colab": {
          "base_uri": "https://localhost:8080/"
        },
        "id": "hRFcGPj49m6C",
        "outputId": "520327a3-5cb2-49cd-a61e-621793f29277"
      },
      "outputs": [
        {
          "output_type": "stream",
          "name": "stdout",
          "text": [
            "Epoch 1/10\n",
            "\u001b[1m750/750\u001b[0m \u001b[32m━━━━━━━━━━━━━━━━━━━━\u001b[0m\u001b[37m\u001b[0m \u001b[1m22s\u001b[0m 26ms/step - accuracy: 0.6621 - loss: 0.9614 - val_accuracy: 0.9380 - val_loss: 0.2107\n",
            "Epoch 2/10\n",
            "\u001b[1m750/750\u001b[0m \u001b[32m━━━━━━━━━━━━━━━━━━━━\u001b[0m\u001b[37m\u001b[0m \u001b[1m20s\u001b[0m 25ms/step - accuracy: 0.9348 - loss: 0.2253 - val_accuracy: 0.9481 - val_loss: 0.1799\n",
            "Epoch 3/10\n",
            "\u001b[1m750/750\u001b[0m \u001b[32m━━━━━━━━━━━━━━━━━━━━\u001b[0m\u001b[37m\u001b[0m \u001b[1m22s\u001b[0m 27ms/step - accuracy: 0.9543 - loss: 0.1546 - val_accuracy: 0.9599 - val_loss: 0.1338\n",
            "Epoch 4/10\n",
            "\u001b[1m750/750\u001b[0m \u001b[32m━━━━━━━━━━━━━━━━━━━━\u001b[0m\u001b[37m\u001b[0m \u001b[1m19s\u001b[0m 26ms/step - accuracy: 0.9611 - loss: 0.1339 - val_accuracy: 0.9660 - val_loss: 0.1189\n",
            "Epoch 5/10\n",
            "\u001b[1m750/750\u001b[0m \u001b[32m━━━━━━━━━━━━━━━━━━━━\u001b[0m\u001b[37m\u001b[0m \u001b[1m19s\u001b[0m 25ms/step - accuracy: 0.9689 - loss: 0.1093 - val_accuracy: 0.9632 - val_loss: 0.1378\n",
            "Epoch 6/10\n",
            "\u001b[1m750/750\u001b[0m \u001b[32m━━━━━━━━━━━━━━━━━━━━\u001b[0m\u001b[37m\u001b[0m \u001b[1m20s\u001b[0m 27ms/step - accuracy: 0.9700 - loss: 0.1041 - val_accuracy: 0.9747 - val_loss: 0.0936\n",
            "Epoch 7/10\n",
            "\u001b[1m750/750\u001b[0m \u001b[32m━━━━━━━━━━━━━━━━━━━━\u001b[0m\u001b[37m\u001b[0m \u001b[1m43s\u001b[0m 30ms/step - accuracy: 0.9723 - loss: 0.0960 - val_accuracy: 0.9763 - val_loss: 0.0872\n",
            "Epoch 8/10\n",
            "\u001b[1m750/750\u001b[0m \u001b[32m━━━━━━━━━━━━━━━━━━━━\u001b[0m\u001b[37m\u001b[0m \u001b[1m39s\u001b[0m 26ms/step - accuracy: 0.9738 - loss: 0.0878 - val_accuracy: 0.9721 - val_loss: 0.0981\n",
            "Epoch 9/10\n",
            "\u001b[1m750/750\u001b[0m \u001b[32m━━━━━━━━━━━━━━━━━━━━\u001b[0m\u001b[37m\u001b[0m \u001b[1m19s\u001b[0m 24ms/step - accuracy: 0.9769 - loss: 0.0802 - val_accuracy: 0.9719 - val_loss: 0.0984\n",
            "Epoch 10/10\n",
            "\u001b[1m750/750\u001b[0m \u001b[32m━━━━━━━━━━━━━━━━━━━━\u001b[0m\u001b[37m\u001b[0m \u001b[1m20s\u001b[0m 27ms/step - accuracy: 0.9783 - loss: 0.0768 - val_accuracy: 0.9754 - val_loss: 0.0873\n",
            "313/313 - 2s - 6ms/step - accuracy: 0.9753 - loss: 0.0885\n",
            "Test Accuracy: 0.98\n",
            "\u001b[1m1/1\u001b[0m \u001b[32m━━━━━━━━━━━━━━━━━━━━\u001b[0m\u001b[37m\u001b[0m \u001b[1m0s\u001b[0m 272ms/step\n",
            "Predicted digit: 2\n"
          ]
        }
      ],
      "source": [
        "import numpy as np\n",
        "import tensorflow as tf\n",
        "from tensorflow.keras.datasets import mnist\n",
        "from tensorflow.keras.models import Sequential\n",
        "from tensorflow.keras.layers import SimpleRNN, Dense, Flatten\n",
        "from tensorflow.keras.utils import to_categorical, img_to_array\n",
        "import cv2\n",
        "from google.colab.patches import cv2_imshow\n",
        "\n",
        "# Load and preprocess MNIST dataset\n",
        "(X_train, y_train), (X_test, y_test) = mnist.load_data()\n",
        "X_train = X_train / 255.0  # Normalize pixel values\n",
        "X_test = X_test / 255.0    # Normalize pixel values\n",
        "\n",
        "y_train = to_categorical(y_train, num_classes=10)  # One-hot encode labels\n",
        "y_test = to_categorical(y_test, num_classes=10)    # One-hot encode labels\n",
        "\n",
        "# Define input dimensions\n",
        "timesteps = X_train.shape[1]\n",
        "input_dim = X_train.shape[2]\n",
        "\n",
        "model = Sequential([\n",
        "    SimpleRNN(128, input_shape=(timesteps, input_dim), activation='relu', return_sequences=True),\n",
        "    SimpleRNN(64, activation='relu'),  # Added another RNN layer\n",
        "    Dense(64, activation='relu'),\n",
        "    Dense(32, activation='relu'),  # Added another Dense layer\n",
        "    Dense(10, activation='softmax')\n",
        "])\n",
        "\n",
        "# Compile the model\n",
        "model.compile(loss='categorical_crossentropy', optimizer='adam', metrics=['accuracy'])\n",
        "\n",
        "# Train the model\n",
        "model.fit(X_train, y_train, epochs=10, batch_size=64, validation_split=0.2)\n",
        "\n",
        "# Evaluate the model\n",
        "test_loss, test_acc = model.evaluate(X_test, y_test, verbose=2)\n",
        "print(f'Test Accuracy: {test_acc:.2f}')\n",
        "\n",
        "# Function to predict digit from an image\n",
        "def predict_digit(image_path, model):\n",
        "  \"\"\"Predicts the digit in an image using a trained model.\"\"\"\n",
        "  img = cv2.imread(image_path, cv2.IMREAD_GRAYSCALE)\n",
        "  img = cv2.resize(img, (28, 28))\n",
        "  img = img_to_array(img)\n",
        "  img = img.reshape(1, 28, 28)\n",
        "  img = img.astype('float32') / 255.0\n",
        "\n",
        "  prediction = model.predict(img)\n",
        "  predicted_class = np.argmax(prediction)\n",
        "  return predicted_class\n",
        "\n",
        "# Example usage\n",
        "image_path = '/content/digiy.png'\n",
        "predicted_digit = predict_digit(image_path, model)\n",
        "print(f\"Predicted digit: {predicted_digit}\")"
      ]
    },
    {
      "cell_type": "code",
      "source": [
        "ima_path = '/content/digit.png'\n",
        "predicted_digit = predict_digit(ima_path, model)\n",
        "print(f\"Predicted digit: {predicted_digit}\")"
      ],
      "metadata": {
        "colab": {
          "base_uri": "https://localhost:8080/"
        },
        "id": "yQuP6eVp-bYx",
        "outputId": "91a2f7ca-69ef-4381-c9e0-d6058658b0db"
      },
      "execution_count": null,
      "outputs": [
        {
          "output_type": "stream",
          "name": "stdout",
          "text": [
            "\u001b[1m1/1\u001b[0m \u001b[32m━━━━━━━━━━━━━━━━━━━━\u001b[0m\u001b[37m\u001b[0m \u001b[1m0s\u001b[0m 23ms/step\n",
            "Predicted digit: 3\n"
          ]
        }
      ]
    }
  ]
}